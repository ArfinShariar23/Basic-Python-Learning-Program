{
 "cells": [
  {
   "cell_type": "markdown",
   "id": "c10b3080",
   "metadata": {},
   "source": [
    "### Welcome to OOP Concept of Python"
   ]
  },
  {
   "cell_type": "markdown",
   "id": "9c4514a8",
   "metadata": {},
   "source": [
    "#### Like other general purpose programming language Python also have OOP concept in it. In this part of our class we are going to learn about python OOP (Object oriented programming) concept."
   ]
  },
  {
   "cell_type": "code",
   "execution_count": 2,
   "id": "72c457a9",
   "metadata": {},
   "outputs": [
    {
     "name": "stdout",
     "output_type": "stream",
     "text": [
      "Bong is 10 years old\n",
      "Jimmy is 13 years old\n"
     ]
    }
   ],
   "source": [
    "class bird:\n",
    "    name = \"\"\n",
    "    age = 0\n",
    "\n",
    "#Create Parrot 1 object\n",
    "bird1 = bird()\n",
    "bird1.name = \"Bong\"\n",
    "bird1.age = 10\n",
    "\n",
    "#Create Bird 2 Object\n",
    "bird2 = bird()\n",
    "bird2.name = \"Jimmy\"\n",
    "bird2.age = 13\n",
    "\n",
    "print(f\"{bird1.name} is {bird1.age} years old\")\n",
    "print(f\"{bird2.name} is {bird2.age} years old\")"
   ]
  },
  {
   "cell_type": "code",
   "execution_count": 4,
   "id": "138d6040",
   "metadata": {},
   "outputs": [
    {
     "name": "stdout",
     "output_type": "stream",
     "text": [
      "Name:  Arfin Shariar\n",
      "Age:  23\n",
      "Name:  Aflatul Kawser\n",
      "Age:  23\n"
     ]
    }
   ],
   "source": [
    "class Employee:\n",
    "    def __init__(self,name,age):\n",
    "        self.name = name\n",
    "        self.age = age\n",
    "    def display(self):\n",
    "        print(\"Name: \",self.name)\n",
    "        print(\"Age: \",self.age)\n",
    "        \n",
    "#Creating Object\n",
    "emp1 = Employee(\"Arfin Shariar\",23)\n",
    "emp1.display()\n",
    "emp2 = Employee(\"Aflatul Kawser\",23)\n",
    "emp2.display()"
   ]
  },
  {
   "cell_type": "code",
   "execution_count": 8,
   "id": "beb5305e",
   "metadata": {},
   "outputs": [
    {
     "name": "stdout",
     "output_type": "stream",
     "text": [
      "Student Name:  Sumaya Jannat\n",
      "ID:  232301\n",
      "Gender:  Female\n",
      "Address:  Dhaka\n",
      "\n",
      "Student Name:  Papiya Rahman\n",
      "ID:  232302\n",
      "Gender:  Female\n",
      "Address:  Dhaka\n",
      "\n",
      "Student Name:  Lamiya Chowdhury\n",
      "ID:  232303\n",
      "Gender:  Female\n",
      "Address:  Chittagong\n",
      "\n",
      "Student Name:  Jakia Sultana\n",
      "ID:  232304\n",
      "Gender:  Female\n",
      "Address:  Khulna\n",
      "\n",
      "Student Name:  Kaniz Fatema\n",
      "ID:  232305\n",
      "Gender:  Female\n",
      "Address:  Bagherhat\n"
     ]
    }
   ],
   "source": [
    "class student:\n",
    "    def __init__(self,sname,s_id,gender,address):\n",
    "        self.sname = sname\n",
    "        self.s_id = s_id\n",
    "        self.gender = gender\n",
    "        self.address = address\n",
    "        \n",
    "    def display(self):\n",
    "        print(\"Student Name: \",self.sname)\n",
    "        print(\"ID: \",self.s_id)\n",
    "        print(\"Gender: \",self.gender)\n",
    "        print(\"Address: \",self.address)\n",
    "        \n",
    "        \n",
    "student1 = student(\"Sumaya Jannat\",232301,\"Female\",\"Dhaka\")\n",
    "student2 = student(\"Papiya Rahman\",232302,\"Female\",\"Dhaka\")\n",
    "student3 = student(\"Lamiya Chowdhury\",232303,\"Female\",\"Chittagong\")\n",
    "student4 = student(\"Jakia Sultana\",232304,\"Female\",\"Khulna\")\n",
    "student5 = student(\"Kaniz Fatema\",232305,\"Female\",\"Bagherhat\")\n",
    "\n",
    "student1.display()\n",
    "print()\n",
    "student2.display()\n",
    "print()\n",
    "student3.display()\n",
    "print()\n",
    "student4.display()\n",
    "print()\n",
    "student5.display()"
   ]
  },
  {
   "cell_type": "code",
   "execution_count": 4,
   "id": "9e249235",
   "metadata": {},
   "outputs": [
    {
     "name": "stdout",
     "output_type": "stream",
     "text": [
      "Area of the room =  5000\n"
     ]
    }
   ],
   "source": [
    "class Room:\n",
    "    length = 0.0\n",
    "    height = 0.0\n",
    "    \n",
    "    def area_cal(self):\n",
    "        print(\"Area of the room = \",self.length*self.height)\n",
    "        \n",
    "room1 = Room()\n",
    "room1.length = 100\n",
    "room1.height = 50\n",
    "room1.area_cal()"
   ]
  },
  {
   "cell_type": "code",
   "execution_count": 8,
   "id": "0989aa2b",
   "metadata": {},
   "outputs": [
    {
     "name": "stdout",
     "output_type": "stream",
     "text": [
      "This is a Cat\n",
      "This is a Bird\n"
     ]
    }
   ],
   "source": [
    "class animal:\n",
    "    behave1 = \"\"\n",
    "    behave2 = \"\"\n",
    "    behave3 = \"\"\n",
    "    \n",
    "    def predict(self):\n",
    "        if self.behave1 == \"vauvau\" and self.behave2 == \"bite\" and self.behave3 == \"meat\":\n",
    "            print(\"This is a Dog\")\n",
    "        elif self.behave1 == \"meow\" and self.behave2 == \"angry\" and self.behave3 == \"veg\":\n",
    "            print(\"This is a Cat\")\n",
    "        elif self.behave1 == \"fly\" and self.behave2 == \"sing\" and self.behave3 == \"grass\":\n",
    "            print(\"This is a Bird\")\n",
    "        else:\n",
    "            print(\"Sorry Not Identified\")\n",
    "\n",
    "#Create object\n",
    "#Animal1\n",
    "animal1 = animal()\n",
    "animal1.behave1 = \"meow\"\n",
    "animal1.behave2 = \"angry\"\n",
    "animal1.behave3 = \"veg\"\n",
    "animal1.predict()\n",
    "\n",
    "#Animal2\n",
    "animal2 = animal()\n",
    "animal2.behave1 = \"fly\"\n",
    "animal2.behave2 = \"sing\"\n",
    "animal2.behave3 = \"grass\"\n",
    "animal2.predict()"
   ]
  },
  {
   "cell_type": "code",
   "execution_count": 10,
   "id": "e46bee8c",
   "metadata": {},
   "outputs": [
    {
     "name": "stdout",
     "output_type": "stream",
     "text": [
      "This is a cat\n"
     ]
    }
   ],
   "source": [
    "#Constructor\n",
    "class animal:\n",
    "    def __init__(self,behave1,behave2,behave3):\n",
    "        self.behave1 = behave1\n",
    "        self.behave2 = behave2\n",
    "        self.behave3 = behave3\n",
    "        \n",
    "    def display(self):\n",
    "        if self.behave1 == \"meow\" and self.behave2 == \"angry\" and self.behave3 == \"veg\":\n",
    "            print(\"This is a cat\")\n",
    "        elif self.behave1 == \"vauvau\" and self.behave2 == \"angry\" and self.behave3 == \"meat\":\n",
    "            print(\"This is a Dog\")\n",
    "        elif self.behave1 == \"fly\" and self.behave2 == \"sing\" and self.behave3 == \"grass\":\n",
    "            print(\"This is a Bird\")\n",
    "        else:\n",
    "            print(\"Sorry Not Identified\")\n",
    "            \n",
    "#Animal1\n",
    "animal1 = animal(\"meow\",\"angry\",\"veg\")\n",
    "animal1.display()"
   ]
  },
  {
   "cell_type": "code",
   "execution_count": 11,
   "id": "b9ffdd5b",
   "metadata": {},
   "outputs": [
    {
     "name": "stdout",
     "output_type": "stream",
     "text": [
      "I Can Eat\n",
      "My Name is:  Dada Bhai\n"
     ]
    }
   ],
   "source": [
    "#Python Inheritance\n",
    "\n",
    "class animal:\n",
    "    name = \"\"\n",
    "    def eat(self):\n",
    "        print(\"I Can Eat\")\n",
    "    \n",
    "class dog(animal):\n",
    "    def display(self):\n",
    "        print(\"My Name is: \",self.name)\n",
    "\n",
    "animal1 = dog()\n",
    "animal1.name = \"Dada Bhai\"\n",
    "animal1.eat()\n",
    "animal1.display()"
   ]
  },
  {
   "cell_type": "code",
   "execution_count": 16,
   "id": "0f121b93",
   "metadata": {},
   "outputs": [
    {
     "name": "stdout",
     "output_type": "stream",
     "text": [
      "This is a Train\n",
      "This is a Bus\n"
     ]
    }
   ],
   "source": [
    "class MotorVahicle:\n",
    "    def __init__(self,class1,class2,class3):\n",
    "        self.class1 = class1\n",
    "        self.class2 = class2\n",
    "        self.class3 = class3\n",
    "class bike(MotorVahicle):\n",
    "    def display(self):\n",
    "        print(\"This is a Bike\")\n",
    "class bus(MotorVahicle):\n",
    "    def display(self):\n",
    "        print(\"This is a Bus\")\n",
    "class train(MotorVahicle):\n",
    "    def display(self):\n",
    "        print(\"This is a Train\")\n",
    "        \n",
    "vahicle1 = train(\"Boggy\",\"Engine\",\"Whistle\")\n",
    "vahicle1.display()\n",
    "vahicle2 = bus(\"Sit\",\"Door\",\"Conductor\")\n",
    "vahicle2.display()"
   ]
  },
  {
   "cell_type": "code",
   "execution_count": 17,
   "id": "a6b40ceb",
   "metadata": {},
   "outputs": [],
   "source": [
    "class polygon:\n",
    "    def __init__(self,no_of_sides):\n",
    "        self.n = no_of_sides\n",
    "        self.sides = [0 for i in range (no_of_sides)]\n",
    "        \n",
    "    def inputsides(self):\n",
    "        self.sides = [float(input(\"Enter side\"+str[i+1]+\": \"))for i in range(self.n)]\n",
    "        \n",
    "    def disSides(self):\n",
    "        for i in range(self.n):\n",
    "            print(\"Side \",i+1,\"is\",self.sides[i])"
   ]
  },
  {
   "cell_type": "code",
   "execution_count": 18,
   "id": "dab326ff",
   "metadata": {},
   "outputs": [
    {
     "name": "stdout",
     "output_type": "stream",
     "text": [
      "Divide =  0.5\n",
      "Mul =  200\n",
      "Sum =  30\n"
     ]
    }
   ],
   "source": [
    "class cal1:\n",
    "    def sum(self,a,b):\n",
    "        result = a+b\n",
    "        print(\"Sum = \",result)\n",
    "    \n",
    "class cal2:\n",
    "    def mul(self,a,b):\n",
    "        result = a*b\n",
    "        print(\"Mul = \",result)\n",
    "        \n",
    "class derived(cal1,cal2):\n",
    "    def divide(self,a,b):\n",
    "        result = a/b\n",
    "        print(\"Divide = \",result)\n",
    "        \n",
    "#Create Object\n",
    "t = derived()\n",
    "t.divide(10,20)\n",
    "t.mul(10,20)\n",
    "t.sum(10,20)\n",
    "        "
   ]
  },
  {
   "cell_type": "code",
   "execution_count": 33,
   "id": "03d9abd6",
   "metadata": {},
   "outputs": [
    {
     "name": "stdout",
     "output_type": "stream",
     "text": [
      "Bus Engine =  4500  cc\n",
      "Bus Capacity =  45  Person\n",
      "Its under Motor Vahicle\n",
      "\n",
      "Bike Engine =  150  cc\n",
      "Bike Capacity =  2  Person\n",
      "Its under Motor Vahicle\n"
     ]
    }
   ],
   "source": [
    "class motor1:\n",
    "    def bike(self,engine,capacity):\n",
    "        self.e = engine\n",
    "        self.c = capacity\n",
    "        print(\"Bike Engine = \",engine,\" cc\")\n",
    "        print(\"Bike Capacity = \",capacity,\" Person\")\n",
    "        \n",
    "class motor2:\n",
    "    def bus(self,engine,capacity):\n",
    "        self.e = engine\n",
    "        self.c = capacity\n",
    "        print(\"Bus Engine = \",engine,\" cc\")\n",
    "        print(\"Bus Capacity = \",capacity,\" Person\")\n",
    "        \n",
    "class motor3:\n",
    "    def train(self,engine,capacity):\n",
    "        self.e = engine\n",
    "        self.c = capacity\n",
    "        print(\"Train Engine = \",engine,\" cc\")\n",
    "        print(\"Train Capacity = \",capacity,\" Person\")\n",
    "        \n",
    "class MotorVahicle(motor1,motor2,motor3):\n",
    "    def Motor(self):\n",
    "        print(\"Its under Motor Vahicle\")\n",
    "        \n",
    "#Creating object1\n",
    "vahicle1 = MotorVahicle()\n",
    "vahicle1.bus(4500,45)\n",
    "vahicle1.Motor()\n",
    "print()\n",
    "#Creating Object2\n",
    "vahicle2 = MotorVahicle()\n",
    "vahicle2.bike(150,2)\n",
    "vahicle2.Motor()"
   ]
  },
  {
   "cell_type": "code",
   "execution_count": null,
   "id": "c21074fe",
   "metadata": {},
   "outputs": [],
   "source": []
  }
 ],
 "metadata": {
  "kernelspec": {
   "display_name": "Python 3 (ipykernel)",
   "language": "python",
   "name": "python3"
  },
  "language_info": {
   "codemirror_mode": {
    "name": "ipython",
    "version": 3
   },
   "file_extension": ".py",
   "mimetype": "text/x-python",
   "name": "python",
   "nbconvert_exporter": "python",
   "pygments_lexer": "ipython3",
   "version": "3.10.9"
  }
 },
 "nbformat": 4,
 "nbformat_minor": 5
}
